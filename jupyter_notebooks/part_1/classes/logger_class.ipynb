{
 "cells": [
  {
   "cell_type": "code",
   "execution_count": 1,
   "id": "9091178d-9425-4b47-a2bf-eec5da24eabf",
   "metadata": {},
   "outputs": [],
   "source": [
    "import sys\n",
    "from loguru import logger\n",
    "\n",
    "\n",
    "class LoguruLogger:\n",
    "    def __init__(self, name):\n",
    "        self.name = name\n",
    "        # remove default handler\n",
    "        logger.remove()\n",
    "        # configure console handler\n",
    "        logger.add(sys.stderr, level=\"INFO\")\n",
    "        # configure the file handler\n",
    "        logger.add(\"logs/project_logs.log\", level=\"INFO\")\n",
    "\n",
    "    def get_logger(self):\n",
    "        return logger.bind(name=self.name)\n"
   ]
  },
  {
   "cell_type": "code",
   "execution_count": null,
   "id": "74e6b9fb-13de-49e0-ad2e-6665a3f4cc04",
   "metadata": {},
   "outputs": [],
   "source": []
  }
 ],
 "metadata": {
  "kernelspec": {
   "display_name": "Python 3 (ipykernel)",
   "language": "python",
   "name": "python3"
  },
  "language_info": {
   "codemirror_mode": {
    "name": "ipython",
    "version": 3
   },
   "file_extension": ".py",
   "mimetype": "text/x-python",
   "name": "python",
   "nbconvert_exporter": "python",
   "pygments_lexer": "ipython3",
   "version": "3.9.0"
  }
 },
 "nbformat": 4,
 "nbformat_minor": 5
}
