{
 "cells": [
  {
   "cell_type": "code",
   "execution_count": 5,
   "id": "e5b63a73-cfc6-4fac-88a2-3e9d1cab227a",
   "metadata": {},
   "outputs": [],
   "source": [
    "%run classes/manager_class.ipynb\n",
    "\n",
    "\n",
    "def main():\n",
    "    manager = ManagerClass(snapshot_number=5)\n",
    "\n",
    "    manager.extract_data_from_booking(booking_url='https://www.booking.com/searchresults.html?city=20088325',\n",
    "                                      time_to_travel=30,\n",
    "                                      length_of_stay=5,\n",
    "                                      adults=2,\n",
    "                                      children=0,\n",
    "                                      room=1)\n",
    "\n",
    "    manager.extract_data_from_expedia(expedia_url='https://www.expedia.com/Hotel-Search?destination=New%20York',\n",
    "                                      time_to_travel=30,\n",
    "                                      length_of_stay=5,\n",
    "                                      adults=2,\n",
    "                                      children=0,\n",
    "                                      room=1)"
   ]
  },
  {
   "cell_type": "code",
   "execution_count": 6,
   "id": "65823180-17d9-4b3c-814c-f12d7bece8ec",
   "metadata": {},
   "outputs": [
    {
     "name": "stderr",
     "output_type": "stream",
     "text": [
      "\u001b[32m2024-06-26 10:18:56.089\u001b[0m | \u001b[1mINFO    \u001b[0m | \u001b[36m__main__\u001b[0m:\u001b[36mextract_data_from_booking\u001b[0m:\u001b[36m17\u001b[0m - \u001b[1mStart Extract data from: https://www.booking.com/searchresults.html?city=20088325\u001b[0m\n",
      "\u001b[32m2024-06-26 10:19:05.533\u001b[0m | \u001b[31m\u001b[1mERROR   \u001b[0m | \u001b[36m__main__\u001b[0m:\u001b[36mremove_register_popup_window\u001b[0m:\u001b[36m31\u001b[0m - \u001b[31m\u001b[1mRegister button do not exists\u001b[0m\n",
      "\u001b[32m2024-06-26 10:19:06.049\u001b[0m | \u001b[1mINFO    \u001b[0m | \u001b[36m__main__\u001b[0m:\u001b[36mmain_iterator_runner\u001b[0m:\u001b[36m74\u001b[0m - \u001b[1mIteration number: 1: TTT of 1, LOS of 1\u001b[0m\n",
      "\u001b[32m2024-06-26 10:19:06.052\u001b[0m | \u001b[1mINFO    \u001b[0m | \u001b[36m__main__\u001b[0m:\u001b[36mchoose_dates\u001b[0m:\u001b[36m132\u001b[0m - \u001b[1mStart Date: 27 June 2024\u001b[0m\n",
      "\u001b[32m2024-06-26 10:19:06.056\u001b[0m | \u001b[1mINFO    \u001b[0m | \u001b[36m__main__\u001b[0m:\u001b[36mchoose_dates\u001b[0m:\u001b[36m133\u001b[0m - \u001b[1mEnd Date: 28 June 2024\u001b[0m\n",
      "\u001b[32m2024-06-26 10:19:12.370\u001b[0m | \u001b[31m\u001b[1mERROR   \u001b[0m | \u001b[36m__main__\u001b[0m:\u001b[36mchoose_dates\u001b[0m:\u001b[36m160\u001b[0m - \u001b[31m\u001b[1mStart/End Date button does not exists\u001b[0m\n"
     ]
    },
    {
     "ename": "NoSuchWindowException",
     "evalue": "Message: no such window: target window already closed\nfrom unknown error: web view not found\n  (Session info: chrome=126.0.6478.116)\nStacktrace:\n\tGetHandleVerifier [0x0096C1C3+27395]\n\t(No symbol) [0x00903DC4]\n\t(No symbol) [0x00801B7F]\n\t(No symbol) [0x007DE483]\n\t(No symbol) [0x0086A06F]\n\t(No symbol) [0x0087C3D6]\n\t(No symbol) [0x00863736]\n\t(No symbol) [0x00837541]\n\t(No symbol) [0x008380BD]\n\tGetHandleVerifier [0x00C23A93+2876371]\n\tGetHandleVerifier [0x00C77F5D+3221661]\n\tGetHandleVerifier [0x009ED634+556916]\n\tGetHandleVerifier [0x009F474C+585868]\n\t(No symbol) [0x0090CE04]\n\t(No symbol) [0x00909818]\n\t(No symbol) [0x009099B7]\n\t(No symbol) [0x008FBF0E]\n\tBaseThreadInitThunk [0x760F00F9+25]\n\tRtlGetAppContainerNamedObjectPath [0x77C47BBE+286]\n\tRtlGetAppContainerNamedObjectPath [0x77C47B8E+238]\n",
     "output_type": "error",
     "traceback": [
      "\u001b[1;31m---------------------------------------------------------------------------\u001b[0m",
      "\u001b[1;31mNoSuchWindowException\u001b[0m                     Traceback (most recent call last)",
      "Cell \u001b[1;32mIn[6], line 1\u001b[0m\n\u001b[1;32m----> 1\u001b[0m \u001b[43mmain\u001b[49m\u001b[43m(\u001b[49m\u001b[43m)\u001b[49m\n",
      "Cell \u001b[1;32mIn[5], line 7\u001b[0m, in \u001b[0;36mmain\u001b[1;34m()\u001b[0m\n\u001b[0;32m      4\u001b[0m \u001b[38;5;28;01mdef\u001b[39;00m \u001b[38;5;21mmain\u001b[39m():\n\u001b[0;32m      5\u001b[0m     manager \u001b[38;5;241m=\u001b[39m ManagerClass(snapshot_number\u001b[38;5;241m=\u001b[39m\u001b[38;5;241m5\u001b[39m)\n\u001b[1;32m----> 7\u001b[0m     \u001b[43mmanager\u001b[49m\u001b[38;5;241;43m.\u001b[39;49m\u001b[43mextract_data_from_booking\u001b[49m\u001b[43m(\u001b[49m\u001b[43mbooking_url\u001b[49m\u001b[38;5;241;43m=\u001b[39;49m\u001b[38;5;124;43m'\u001b[39;49m\u001b[38;5;124;43mhttps://www.booking.com/searchresults.html?city=20088325\u001b[39;49m\u001b[38;5;124;43m'\u001b[39;49m\u001b[43m,\u001b[49m\n\u001b[0;32m      8\u001b[0m \u001b[43m                                      \u001b[49m\u001b[43mtime_to_travel\u001b[49m\u001b[38;5;241;43m=\u001b[39;49m\u001b[38;5;241;43m30\u001b[39;49m\u001b[43m,\u001b[49m\n\u001b[0;32m      9\u001b[0m \u001b[43m                                      \u001b[49m\u001b[43mlength_of_stay\u001b[49m\u001b[38;5;241;43m=\u001b[39;49m\u001b[38;5;241;43m5\u001b[39;49m\u001b[43m,\u001b[49m\n\u001b[0;32m     10\u001b[0m \u001b[43m                                      \u001b[49m\u001b[43madults\u001b[49m\u001b[38;5;241;43m=\u001b[39;49m\u001b[38;5;241;43m2\u001b[39;49m\u001b[43m,\u001b[49m\n\u001b[0;32m     11\u001b[0m \u001b[43m                                      \u001b[49m\u001b[43mchildren\u001b[49m\u001b[38;5;241;43m=\u001b[39;49m\u001b[38;5;241;43m0\u001b[39;49m\u001b[43m,\u001b[49m\n\u001b[0;32m     12\u001b[0m \u001b[43m                                      \u001b[49m\u001b[43mroom\u001b[49m\u001b[38;5;241;43m=\u001b[39;49m\u001b[38;5;241;43m1\u001b[39;49m\u001b[43m)\u001b[49m\n\u001b[0;32m     14\u001b[0m     manager\u001b[38;5;241m.\u001b[39mextract_data_from_expedia(expedia_url\u001b[38;5;241m=\u001b[39m\u001b[38;5;124m'\u001b[39m\u001b[38;5;124mhttps://www.expedia.com/Hotel-Search?destination=New\u001b[39m\u001b[38;5;124m%\u001b[39m\u001b[38;5;124m20York\u001b[39m\u001b[38;5;124m'\u001b[39m,\n\u001b[0;32m     15\u001b[0m                                       time_to_travel\u001b[38;5;241m=\u001b[39m\u001b[38;5;241m30\u001b[39m,\n\u001b[0;32m     16\u001b[0m                                       length_of_stay\u001b[38;5;241m=\u001b[39m\u001b[38;5;241m5\u001b[39m,\n\u001b[0;32m     17\u001b[0m                                       adults\u001b[38;5;241m=\u001b[39m\u001b[38;5;241m2\u001b[39m,\n\u001b[0;32m     18\u001b[0m                                       children\u001b[38;5;241m=\u001b[39m\u001b[38;5;241m0\u001b[39m,\n\u001b[0;32m     19\u001b[0m                                       room\u001b[38;5;241m=\u001b[39m\u001b[38;5;241m1\u001b[39m)\n",
      "File \u001b[1;32m~\\AppData\\Local\\Temp\\ipykernel_73484\\2371314665.py:20\u001b[0m, in \u001b[0;36mManagerClass.extract_data_from_booking\u001b[1;34m(self, booking_url, time_to_travel, length_of_stay, adults, children, room)\u001b[0m\n\u001b[0;32m     17\u001b[0m \u001b[38;5;28mself\u001b[39m\u001b[38;5;241m.\u001b[39mlogger\u001b[38;5;241m.\u001b[39minfo(\u001b[38;5;124mf\u001b[39m\u001b[38;5;124m\"\u001b[39m\u001b[38;5;124mStart Extract data from: \u001b[39m\u001b[38;5;132;01m{\u001b[39;00mbooking_url\u001b[38;5;132;01m}\u001b[39;00m\u001b[38;5;124m\"\u001b[39m)\n\u001b[0;32m     18\u001b[0m booking_class \u001b[38;5;241m=\u001b[39m Booking(url\u001b[38;5;241m=\u001b[39mbooking_url)\n\u001b[1;32m---> 20\u001b[0m \u001b[38;5;28;43mself\u001b[39;49m\u001b[38;5;241;43m.\u001b[39;49m\u001b[43mextract_general_data\u001b[49m\u001b[43m(\u001b[49m\u001b[43mwebsite_instance\u001b[49m\u001b[38;5;241;43m=\u001b[39;49m\u001b[43mbooking_class\u001b[49m\u001b[43m,\u001b[49m\n\u001b[0;32m     21\u001b[0m \u001b[43m                          \u001b[49m\u001b[43mtime_to_travel\u001b[49m\u001b[38;5;241;43m=\u001b[39;49m\u001b[43mtime_to_travel\u001b[49m\u001b[43m,\u001b[49m\n\u001b[0;32m     22\u001b[0m \u001b[43m                          \u001b[49m\u001b[43mlength_of_stay\u001b[49m\u001b[38;5;241;43m=\u001b[39;49m\u001b[43mlength_of_stay\u001b[49m\u001b[43m,\u001b[49m\n\u001b[0;32m     23\u001b[0m \u001b[43m                          \u001b[49m\u001b[43madults\u001b[49m\u001b[38;5;241;43m=\u001b[39;49m\u001b[43madults\u001b[49m\u001b[43m,\u001b[49m\n\u001b[0;32m     24\u001b[0m \u001b[43m                          \u001b[49m\u001b[43mchildren\u001b[49m\u001b[38;5;241;43m=\u001b[39;49m\u001b[43mchildren\u001b[49m\u001b[43m,\u001b[49m\n\u001b[0;32m     25\u001b[0m \u001b[43m                          \u001b[49m\u001b[43mroom\u001b[49m\u001b[38;5;241;43m=\u001b[39;49m\u001b[43mroom\u001b[49m\u001b[43m)\u001b[49m\n\u001b[0;32m     26\u001b[0m booking_class\u001b[38;5;241m.\u001b[39mdriver_class\u001b[38;5;241m.\u001b[39mdriver\u001b[38;5;241m.\u001b[39mquit()\n",
      "File \u001b[1;32m~\\AppData\\Local\\Temp\\ipykernel_73484\\2371314665.py:57\u001b[0m, in \u001b[0;36mManagerClass.extract_general_data\u001b[1;34m(self, website_instance, time_to_travel, length_of_stay, adults, children, room)\u001b[0m\n\u001b[0;32m     52\u001b[0m \u001b[38;5;66;03m# website_instance.choose_people_amount(adults=adults,\u001b[39;00m\n\u001b[0;32m     53\u001b[0m \u001b[38;5;66;03m#                                       children=children,\u001b[39;00m\n\u001b[0;32m     54\u001b[0m \u001b[38;5;66;03m#                                       room=room)\u001b[39;00m\n\u001b[0;32m     56\u001b[0m \u001b[38;5;28mself\u001b[39m\u001b[38;5;241m.\u001b[39mlogger\u001b[38;5;241m.\u001b[39mdebug(\u001b[38;5;124m\"\u001b[39m\u001b[38;5;124mCalling to main iterator \u001b[39m\u001b[38;5;124m\"\u001b[39m)\n\u001b[1;32m---> 57\u001b[0m result \u001b[38;5;241m=\u001b[39m \u001b[38;5;28;43mself\u001b[39;49m\u001b[38;5;241;43m.\u001b[39;49m\u001b[43mmain_iterator_runner\u001b[49m\u001b[43m(\u001b[49m\u001b[43mwebsite_instance\u001b[49m\u001b[38;5;241;43m=\u001b[39;49m\u001b[43mwebsite_instance\u001b[49m\u001b[43m,\u001b[49m\n\u001b[0;32m     58\u001b[0m \u001b[43m                                   \u001b[49m\u001b[43mtime_to_travel\u001b[49m\u001b[38;5;241;43m=\u001b[39;49m\u001b[43mtime_to_travel\u001b[49m\u001b[43m,\u001b[49m\n\u001b[0;32m     59\u001b[0m \u001b[43m                                   \u001b[49m\u001b[43mlength_of_stay\u001b[49m\u001b[38;5;241;43m=\u001b[39;49m\u001b[43mlength_of_stay\u001b[49m\u001b[43m)\u001b[49m\n\u001b[0;32m     61\u001b[0m \u001b[38;5;66;03m# save result\u001b[39;00m\n\u001b[0;32m     62\u001b[0m \u001b[38;5;28mself\u001b[39m\u001b[38;5;241m.\u001b[39msave_results(file_name\u001b[38;5;241m=\u001b[39mwebsite_instance\u001b[38;5;241m.\u001b[39mfile_name,\n\u001b[0;32m     63\u001b[0m                   lst_of_results\u001b[38;5;241m=\u001b[39mresult)\n",
      "File \u001b[1;32m~\\AppData\\Local\\Temp\\ipykernel_73484\\2371314665.py:78\u001b[0m, in \u001b[0;36mManagerClass.main_iterator_runner\u001b[1;34m(self, website_instance, time_to_travel, length_of_stay)\u001b[0m\n\u001b[0;32m     76\u001b[0m website_instance\u001b[38;5;241m.\u001b[39mclick_on_search_hotels_button()\n\u001b[0;32m     77\u001b[0m website_instance\u001b[38;5;241m.\u001b[39mclick_on_load_nore_results()\n\u001b[1;32m---> 78\u001b[0m hotels_current_data \u001b[38;5;241m=\u001b[39m \u001b[43mwebsite_instance\u001b[49m\u001b[38;5;241;43m.\u001b[39;49m\u001b[43mcollect_hotels_data\u001b[49m\u001b[43m(\u001b[49m\u001b[43mttt\u001b[49m\u001b[38;5;241;43m=\u001b[39;49m\u001b[43mcurrent_ttt\u001b[49m\u001b[43m,\u001b[49m\u001b[43m \u001b[49m\u001b[43mlos\u001b[49m\u001b[38;5;241;43m=\u001b[39;49m\u001b[43mcurrent_los\u001b[49m\u001b[43m,\u001b[49m\n\u001b[0;32m     79\u001b[0m \u001b[43m                                                           \u001b[49m\u001b[43mstart_date_str\u001b[49m\u001b[38;5;241;43m=\u001b[39;49m\u001b[43mstart_date_str\u001b[49m\u001b[43m,\u001b[49m\n\u001b[0;32m     80\u001b[0m \u001b[43m                                                           \u001b[49m\u001b[43mend_date_str\u001b[49m\u001b[38;5;241;43m=\u001b[39;49m\u001b[43mend_date_str\u001b[49m\u001b[43m,\u001b[49m\n\u001b[0;32m     81\u001b[0m \u001b[43m                                                           \u001b[49m\u001b[43msnapshot_number\u001b[49m\u001b[38;5;241;43m=\u001b[39;49m\u001b[38;5;28;43mself\u001b[39;49m\u001b[38;5;241;43m.\u001b[39;49m\u001b[43msnapshot_number\u001b[49m\u001b[43m)\u001b[49m\n\u001b[0;32m     82\u001b[0m website_instance\u001b[38;5;241m.\u001b[39mdata \u001b[38;5;241m+\u001b[39m\u001b[38;5;241m=\u001b[39m hotels_current_data\n\u001b[0;32m     83\u001b[0m \u001b[38;5;28mself\u001b[39m\u001b[38;5;241m.\u001b[39mlogger\u001b[38;5;241m.\u001b[39mdebug(\u001b[38;5;124mf\u001b[39m\u001b[38;5;124m\"\u001b[39m\u001b[38;5;124mFinishing running on: TTT of \u001b[39m\u001b[38;5;132;01m{\u001b[39;00mcurrent_ttt\u001b[38;5;132;01m}\u001b[39;00m\u001b[38;5;124m, LOS of \u001b[39m\u001b[38;5;132;01m{\u001b[39;00mcurrent_los\u001b[38;5;132;01m}\u001b[39;00m\u001b[38;5;124m\"\u001b[39m)\n",
      "File \u001b[1;32m~\\AppData\\Local\\Temp\\ipykernel_73484\\2206094315.py:197\u001b[0m, in \u001b[0;36mBooking.collect_hotels_data\u001b[1;34m(self, ttt, los, start_date_str, end_date_str, snapshot_number)\u001b[0m\n\u001b[0;32m    195\u001b[0m logger\u001b[38;5;241m.\u001b[39mdebug(\u001b[38;5;124mf\u001b[39m\u001b[38;5;124m\"\u001b[39m\u001b[38;5;124mCurrent URL: \u001b[39m\u001b[38;5;132;01m{\u001b[39;00mcurrent_url\u001b[38;5;132;01m}\u001b[39;00m\u001b[38;5;124m\"\u001b[39m)\n\u001b[0;32m    196\u001b[0m time\u001b[38;5;241m.\u001b[39msleep(\u001b[38;5;241m100\u001b[39m)\n\u001b[1;32m--> 197\u001b[0m hotels_elements \u001b[38;5;241m=\u001b[39m \u001b[38;5;28;43mself\u001b[39;49m\u001b[38;5;241;43m.\u001b[39;49m\u001b[43mdriver_class\u001b[49m\u001b[38;5;241;43m.\u001b[39;49m\u001b[43mdriver\u001b[49m\u001b[38;5;241;43m.\u001b[39;49m\u001b[43mfind_elements\u001b[49m\u001b[43m(\u001b[49m\u001b[43mBy\u001b[49m\u001b[38;5;241;43m.\u001b[39;49m\u001b[43mCLASS_NAME\u001b[49m\u001b[43m,\u001b[49m\u001b[43m \u001b[49m\u001b[38;5;124;43m\"\u001b[39;49m\u001b[38;5;124;43mfa298e29e2.b74446e476.e40c0c68b1.ea1d0cfcb7.d8991ab7ae.e8b7755ec7.ad0e783e41\u001b[39;49m\u001b[38;5;124;43m\"\u001b[39;49m\u001b[43m)\u001b[49m\n\u001b[0;32m    198\u001b[0m logger\u001b[38;5;241m.\u001b[39minfo(\u001b[38;5;124mf\u001b[39m\u001b[38;5;124m\"\u001b[39m\u001b[38;5;124mThere are \u001b[39m\u001b[38;5;132;01m{\u001b[39;00m\u001b[38;5;28mlen\u001b[39m(hotels_elements)\u001b[38;5;132;01m}\u001b[39;00m\u001b[38;5;124m hotels\u001b[39m\u001b[38;5;124m\"\u001b[39m)\n\u001b[0;32m    199\u001b[0m \u001b[38;5;28;01mfor\u001b[39;00m index_in_page, hotel_element \u001b[38;5;129;01min\u001b[39;00m \u001b[38;5;28menumerate\u001b[39m(hotels_elements):\n\u001b[0;32m    200\u001b[0m     \u001b[38;5;66;03m# Extract data using the specific class names inside each WebElement\u001b[39;00m\n",
      "File \u001b[1;32mD:\\college_of_management\\data_science\\intro_to_data_science_project\\venv\\lib\\site-packages\\selenium\\webdriver\\remote\\webdriver.py:771\u001b[0m, in \u001b[0;36mWebDriver.find_elements\u001b[1;34m(self, by, value)\u001b[0m\n\u001b[0;32m    767\u001b[0m     value \u001b[38;5;241m=\u001b[39m \u001b[38;5;124mf\u001b[39m\u001b[38;5;124m'\u001b[39m\u001b[38;5;124m[name=\u001b[39m\u001b[38;5;124m\"\u001b[39m\u001b[38;5;132;01m{\u001b[39;00mvalue\u001b[38;5;132;01m}\u001b[39;00m\u001b[38;5;124m\"\u001b[39m\u001b[38;5;124m]\u001b[39m\u001b[38;5;124m'\u001b[39m\n\u001b[0;32m    769\u001b[0m \u001b[38;5;66;03m# Return empty list if driver returns null\u001b[39;00m\n\u001b[0;32m    770\u001b[0m \u001b[38;5;66;03m# See https://github.com/SeleniumHQ/selenium/issues/4555\u001b[39;00m\n\u001b[1;32m--> 771\u001b[0m \u001b[38;5;28;01mreturn\u001b[39;00m \u001b[38;5;28;43mself\u001b[39;49m\u001b[38;5;241;43m.\u001b[39;49m\u001b[43mexecute\u001b[49m\u001b[43m(\u001b[49m\u001b[43mCommand\u001b[49m\u001b[38;5;241;43m.\u001b[39;49m\u001b[43mFIND_ELEMENTS\u001b[49m\u001b[43m,\u001b[49m\u001b[43m \u001b[49m\u001b[43m{\u001b[49m\u001b[38;5;124;43m\"\u001b[39;49m\u001b[38;5;124;43musing\u001b[39;49m\u001b[38;5;124;43m\"\u001b[39;49m\u001b[43m:\u001b[49m\u001b[43m \u001b[49m\u001b[43mby\u001b[49m\u001b[43m,\u001b[49m\u001b[43m \u001b[49m\u001b[38;5;124;43m\"\u001b[39;49m\u001b[38;5;124;43mvalue\u001b[39;49m\u001b[38;5;124;43m\"\u001b[39;49m\u001b[43m:\u001b[49m\u001b[43m \u001b[49m\u001b[43mvalue\u001b[49m\u001b[43m}\u001b[49m\u001b[43m)\u001b[49m[\u001b[38;5;124m\"\u001b[39m\u001b[38;5;124mvalue\u001b[39m\u001b[38;5;124m\"\u001b[39m] \u001b[38;5;129;01mor\u001b[39;00m []\n",
      "File \u001b[1;32mD:\\college_of_management\\data_science\\intro_to_data_science_project\\venv\\lib\\site-packages\\selenium\\webdriver\\remote\\webdriver.py:347\u001b[0m, in \u001b[0;36mWebDriver.execute\u001b[1;34m(self, driver_command, params)\u001b[0m\n\u001b[0;32m    345\u001b[0m response \u001b[38;5;241m=\u001b[39m \u001b[38;5;28mself\u001b[39m\u001b[38;5;241m.\u001b[39mcommand_executor\u001b[38;5;241m.\u001b[39mexecute(driver_command, params)\n\u001b[0;32m    346\u001b[0m \u001b[38;5;28;01mif\u001b[39;00m response:\n\u001b[1;32m--> 347\u001b[0m     \u001b[38;5;28;43mself\u001b[39;49m\u001b[38;5;241;43m.\u001b[39;49m\u001b[43merror_handler\u001b[49m\u001b[38;5;241;43m.\u001b[39;49m\u001b[43mcheck_response\u001b[49m\u001b[43m(\u001b[49m\u001b[43mresponse\u001b[49m\u001b[43m)\u001b[49m\n\u001b[0;32m    348\u001b[0m     response[\u001b[38;5;124m\"\u001b[39m\u001b[38;5;124mvalue\u001b[39m\u001b[38;5;124m\"\u001b[39m] \u001b[38;5;241m=\u001b[39m \u001b[38;5;28mself\u001b[39m\u001b[38;5;241m.\u001b[39m_unwrap_value(response\u001b[38;5;241m.\u001b[39mget(\u001b[38;5;124m\"\u001b[39m\u001b[38;5;124mvalue\u001b[39m\u001b[38;5;124m\"\u001b[39m, \u001b[38;5;28;01mNone\u001b[39;00m))\n\u001b[0;32m    349\u001b[0m     \u001b[38;5;28;01mreturn\u001b[39;00m response\n",
      "File \u001b[1;32mD:\\college_of_management\\data_science\\intro_to_data_science_project\\venv\\lib\\site-packages\\selenium\\webdriver\\remote\\errorhandler.py:229\u001b[0m, in \u001b[0;36mErrorHandler.check_response\u001b[1;34m(self, response)\u001b[0m\n\u001b[0;32m    227\u001b[0m         alert_text \u001b[38;5;241m=\u001b[39m value[\u001b[38;5;124m\"\u001b[39m\u001b[38;5;124malert\u001b[39m\u001b[38;5;124m\"\u001b[39m]\u001b[38;5;241m.\u001b[39mget(\u001b[38;5;124m\"\u001b[39m\u001b[38;5;124mtext\u001b[39m\u001b[38;5;124m\"\u001b[39m)\n\u001b[0;32m    228\u001b[0m     \u001b[38;5;28;01mraise\u001b[39;00m exception_class(message, screen, stacktrace, alert_text)  \u001b[38;5;66;03m# type: ignore[call-arg]  # mypy is not smart enough here\u001b[39;00m\n\u001b[1;32m--> 229\u001b[0m \u001b[38;5;28;01mraise\u001b[39;00m exception_class(message, screen, stacktrace)\n",
      "\u001b[1;31mNoSuchWindowException\u001b[0m: Message: no such window: target window already closed\nfrom unknown error: web view not found\n  (Session info: chrome=126.0.6478.116)\nStacktrace:\n\tGetHandleVerifier [0x0096C1C3+27395]\n\t(No symbol) [0x00903DC4]\n\t(No symbol) [0x00801B7F]\n\t(No symbol) [0x007DE483]\n\t(No symbol) [0x0086A06F]\n\t(No symbol) [0x0087C3D6]\n\t(No symbol) [0x00863736]\n\t(No symbol) [0x00837541]\n\t(No symbol) [0x008380BD]\n\tGetHandleVerifier [0x00C23A93+2876371]\n\tGetHandleVerifier [0x00C77F5D+3221661]\n\tGetHandleVerifier [0x009ED634+556916]\n\tGetHandleVerifier [0x009F474C+585868]\n\t(No symbol) [0x0090CE04]\n\t(No symbol) [0x00909818]\n\t(No symbol) [0x009099B7]\n\t(No symbol) [0x008FBF0E]\n\tBaseThreadInitThunk [0x760F00F9+25]\n\tRtlGetAppContainerNamedObjectPath [0x77C47BBE+286]\n\tRtlGetAppContainerNamedObjectPath [0x77C47B8E+238]\n"
     ]
    }
   ],
   "source": [
    "main()"
   ]
  },
  {
   "cell_type": "code",
   "execution_count": null,
   "id": "f291a8fb-9cd8-402c-8421-5b12c8140203",
   "metadata": {},
   "outputs": [],
   "source": []
  }
 ],
 "metadata": {
  "kernelspec": {
   "display_name": "Python 3 (ipykernel)",
   "language": "python",
   "name": "python3"
  },
  "language_info": {
   "codemirror_mode": {
    "name": "ipython",
    "version": 3
   },
   "file_extension": ".py",
   "mimetype": "text/x-python",
   "name": "python",
   "nbconvert_exporter": "python",
   "pygments_lexer": "ipython3",
   "version": "3.9.0"
  }
 },
 "nbformat": 4,
 "nbformat_minor": 5
}
