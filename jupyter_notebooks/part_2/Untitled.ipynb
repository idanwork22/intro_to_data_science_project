{
 "cells": [
  {
   "cell_type": "markdown",
   "id": "e3999dde-7e7d-4321-8e4e-08e0345c1d80",
   "metadata": {},
   "source": [
    "# Part 2 : Exploration + Data preprocessing"
   ]
  },
  {
   "cell_type": "markdown",
   "id": "c3a09970-afcc-4de2-92d3-706d35821de3",
   "metadata": {},
   "source": [
    "### Instructions"
   ]
  },
  {
   "cell_type": "markdown",
   "id": "313e06c4-94d0-4181-99ed-14ebaa3e0c8c",
   "metadata": {},
   "source": [
    "![title](instructions.png)"
   ]
  },
  {
   "cell_type": "code",
   "execution_count": 1,
   "id": "755aa9b7-cc05-4c71-97fa-137e08878da4",
   "metadata": {},
   "outputs": [],
   "source": [
    "import pandas as pd"
   ]
  },
  {
   "cell_type": "code",
   "execution_count": null,
   "id": "6124ac94-39be-478d-a7ca-be36982913fa",
   "metadata": {},
   "outputs": [],
   "source": []
  }
 ],
 "metadata": {
  "kernelspec": {
   "display_name": "Python 3 (ipykernel)",
   "language": "python",
   "name": "python3"
  },
  "language_info": {
   "codemirror_mode": {
    "name": "ipython",
    "version": 3
   },
   "file_extension": ".py",
   "mimetype": "text/x-python",
   "name": "python",
   "nbconvert_exporter": "python",
   "pygments_lexer": "ipython3",
   "version": "3.9.0"
  }
 },
 "nbformat": 4,
 "nbformat_minor": 5
}
