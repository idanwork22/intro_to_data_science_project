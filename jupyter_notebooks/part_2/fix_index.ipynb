{
 "cells": [
  {
   "cell_type": "code",
   "execution_count": 18,
   "id": "e874afde-a713-454f-87a1-c9c76fb5e0fa",
   "metadata": {},
   "outputs": [],
   "source": [
    "import pandas as pd"
   ]
  },
  {
   "cell_type": "code",
   "execution_count": 31,
   "id": "495b919c-8682-44ca-854c-0b1433fa90da",
   "metadata": {},
   "outputs": [],
   "source": [
    "df = pd.read_csv('Booking_09_30__06_07_2024.csv')"
   ]
  },
  {
   "cell_type": "code",
   "execution_count": 32,
   "id": "aa763aea-dfe0-477f-9d03-fa87c53053cc",
   "metadata": {},
   "outputs": [],
   "source": [
    "grouped = df.groupby(['ttt', 'los'])\n"
   ]
  },
  {
   "cell_type": "code",
   "execution_count": 33,
   "id": "80570dc1-224a-4ea4-af1e-921762a974a6",
   "metadata": {},
   "outputs": [],
   "source": [
    "def rank_group(df_group):\n",
    "    df_group['index_in_page'] = range(1, len(df_group) + 1)\n",
    "    return df_group"
   ]
  },
  {
   "cell_type": "code",
   "execution_count": 34,
   "id": "79bbe12a-48b4-430d-9f84-cdc94a0d631b",
   "metadata": {},
   "outputs": [
    {
     "name": "stderr",
     "output_type": "stream",
     "text": [
      "C:\\Users\\user\\AppData\\Local\\Temp\\ipykernel_5756\\556648623.py:1: DeprecationWarning: DataFrameGroupBy.apply operated on the grouping columns. This behavior is deprecated, and in a future version of pandas the grouping columns will be excluded from the operation. Either pass `include_groups=False` to exclude the groupings or explicitly select the grouping columns after groupby to silence this warning.\n",
      "  df_ranked = grouped.apply(rank_group)\n"
     ]
    }
   ],
   "source": [
    "df_ranked = grouped.apply(rank_group)\n",
    "\n",
    "# Reset index if needed\n",
    "df_ranked = df_ranked.reset_index(drop=True)"
   ]
  },
  {
   "cell_type": "code",
   "execution_count": 35,
   "id": "be91920c-6980-4e26-8323-8fbdb8d83294",
   "metadata": {},
   "outputs": [],
   "source": [
    "df_ranked.to_csv('booking_snap_3.csv',index=False)"
   ]
  },
  {
   "cell_type": "code",
   "execution_count": null,
   "id": "8b3b842d-ae06-4f77-aaa3-d8ea6bd7d771",
   "metadata": {},
   "outputs": [],
   "source": []
  }
 ],
 "metadata": {
  "kernelspec": {
   "display_name": "Python 3 (ipykernel)",
   "language": "python",
   "name": "python3"
  },
  "language_info": {
   "codemirror_mode": {
    "name": "ipython",
    "version": 3
   },
   "file_extension": ".py",
   "mimetype": "text/x-python",
   "name": "python",
   "nbconvert_exporter": "python",
   "pygments_lexer": "ipython3",
   "version": "3.9.0"
  }
 },
 "nbformat": 4,
 "nbformat_minor": 5
}
